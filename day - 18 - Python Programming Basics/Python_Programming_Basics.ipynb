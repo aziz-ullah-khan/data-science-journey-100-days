{
 "cells": [
  {
   "cell_type": "markdown",
   "id": "8bee7910",
   "metadata": {},
   "source": [
    "# 📘 Python Programming Basics\n",
    "\n",
    "✍️ Aziz Ullah Khan | 📅 June 25, 2024\n",
    "\n",
    "---\n",
    "\n",
    "## 🚀 Overview\n",
    "\n",
    "This notebook provides an introduction to Python programming, covering basic syntax, operators, conditional statements, and functions.\n",
    "\n",
    "---\n",
    "\n",
    "## 📚 Table of Contents\n",
    "\n",
    "1. Basic Python Syntax\n",
    "2. Python Operators\n",
    "3. Conditional Statements\n",
    "4. Python Functions"
   ]
  },
  {
   "cell_type": "markdown",
   "id": "8adc883c",
   "metadata": {},
   "source": [
    "## 1. Basic Python Syntax\n",
    "---\n",
    "\n",
    "Python syntax refers to the set of rules that define the structure of a Python program. Here are some basic syntax rules and examples."
   ]
  },
  {
   "cell_type": "markdown",
   "id": "eb83c776",
   "metadata": {},
   "source": [
    "### Examples:"
   ]
  },
  {
   "cell_type": "code",
   "execution_count": 3,
   "id": "ec526e89",
   "metadata": {},
   "outputs": [
    {
     "name": "stdout",
     "output_type": "stream",
     "text": [
      "Hello, world!\n",
      "Sum of x and y: 15.5\n",
      "Product of x and y: 55.0\n"
     ]
    }
   ],
   "source": [
    "# Printing a message\n",
    "print(\"Hello, world!\")\n",
    "\n",
    "# Declaring variables\n",
    "x = 10\n",
    "y = 5.5\n",
    "name = \"Alice\"\n",
    "\n",
    "# Performing basic arithmetic operations\n",
    "sum_xy = x + y\n",
    "product_xy = x * y\n",
    "\n",
    "# Displaying the values\n",
    "print(\"Sum of x and y:\", sum_xy)\n",
    "print(\"Product of x and y:\", product_xy)"
   ]
  },
  {
   "cell_type": "markdown",
   "id": "691dc57c",
   "metadata": {},
   "source": [
    "## 2. Python Operators\n",
    "---\n",
    "\n",
    "Operators are special symbols in Python that carry out arithmetic or logical computation. The value that the operator operates on is called the operand."
   ]
  },
  {
   "cell_type": "markdown",
   "id": "6034d91b",
   "metadata": {},
   "source": [
    "### Examples:"
   ]
  },
  {
   "cell_type": "code",
   "execution_count": 4,
   "id": "c7d8719d",
   "metadata": {},
   "outputs": [
    {
     "name": "stdout",
     "output_type": "stream",
     "text": [
      "Addition: 19\n",
      "Subtraction: 11\n",
      "Multiplication: 60\n",
      "Division: 3.75\n",
      "Modulus: 3\n",
      "a equals b: False\n",
      "a not equals b: True\n",
      "a greater than b: True\n",
      "a less than b: False\n",
      "a greater than or equal to b: True\n",
      "a less than or equal to b: False\n",
      "x AND y: False\n",
      "x OR y: True\n",
      "NOT x: False\n"
     ]
    }
   ],
   "source": [
    "# Arithmetic Operators\n",
    "a = 15\n",
    "b = 4\n",
    "\n",
    "addition = a + b\n",
    "subtraction = a - b\n",
    "multiplication = a * b\n",
    "division = a / b\n",
    "modulus = a % b\n",
    "\n",
    "print(\"Addition:\", addition)\n",
    "print(\"Subtraction:\", subtraction)\n",
    "print(\"Multiplication:\", multiplication)\n",
    "print(\"Division:\", division)\n",
    "print(\"Modulus:\", modulus)\n",
    "\n",
    "# Comparison Operators\n",
    "print(\"a equals b:\", a == b)\n",
    "print(\"a not equals b:\", a != b)\n",
    "print(\"a greater than b:\", a > b)\n",
    "print(\"a less than b:\", a < b)\n",
    "print(\"a greater than or equal to b:\", a >= b)\n",
    "print(\"a less than or equal to b:\", a <= b)\n",
    "\n",
    "# Logical Operators\n",
    "x = True\n",
    "y = False\n",
    "\n",
    "print(\"x AND y:\", x and y)\n",
    "print(\"x OR y:\", x or y)\n",
    "print(\"NOT x:\", not x)"
   ]
  },
  {
   "cell_type": "markdown",
   "id": "4f5d0d5c",
   "metadata": {},
   "source": [
    "## 3. Conditional Statements\n",
    "---\n",
    "\n",
    "Conditional statements allow us to execute certain pieces of code based on certain conditions. The primary conditional statements in Python are `if`, `elif`, and `else`."
   ]
  },
  {
   "cell_type": "markdown",
   "id": "a5e57e4d",
   "metadata": {},
   "source": [
    "### Examples:"
   ]
  },
  {
   "cell_type": "code",
   "execution_count": 5,
   "id": "62e5f2de",
   "metadata": {},
   "outputs": [
    {
     "name": "stdout",
     "output_type": "stream",
     "text": [
      "The number is positive\n",
      "The number is negative or zero\n",
      "The number is zero\n"
     ]
    }
   ],
   "source": [
    "# If statement\n",
    "num = 10\n",
    "\n",
    "if num > 0:\n",
    "    print(\"The number is positive\")\n",
    "\n",
    "# If-Else statement\n",
    "num = -5\n",
    "\n",
    "if num > 0:\n",
    "    print(\"The number is positive\")\n",
    "else:\n",
    "    print(\"The number is negative or zero\")\n",
    "\n",
    "# If-Elif-Else statement\n",
    "num = 0\n",
    "\n",
    "if num > 0:\n",
    "    print(\"The number is positive\")\n",
    "elif num == 0:\n",
    "    print(\"The number is zero\")\n",
    "else:\n",
    "    print(\"The number is negative\")"
   ]
  },
  {
   "cell_type": "markdown",
   "id": "27a90269",
   "metadata": {},
   "source": [
    "## 4. Python Functions\n",
    "---\n",
    "\n",
    "Functions are blocks of code that perform a specific task. They help in organizing the code and avoiding repetition. A function is defined using the `def` keyword."
   ]
  },
  {
   "cell_type": "markdown",
   "id": "27480281",
   "metadata": {},
   "source": [
    "### Examples:"
   ]
  },
  {
   "cell_type": "code",
   "execution_count": 6,
   "id": "b3e6c3c2",
   "metadata": {},
   "outputs": [
    {
     "name": "stdout",
     "output_type": "stream",
     "text": [
      "Hello, Alice!\n",
      "Sum: 8\n",
      "Power (2^3): 8\n",
      "Power (4^2): 16\n"
     ]
    }
   ],
   "source": [
    "# Function definition\n",
    "def greet(name):\n",
    "    return f\"Hello, {name}!\"\n",
    "\n",
    "# Function call\n",
    "message = greet(\"Alice\")\n",
    "print(message)\n",
    "\n",
    "# Function with multiple parameters\n",
    "def add_numbers(a, b):\n",
    "    return a + b\n",
    "\n",
    "result = add_numbers(5, 3)\n",
    "print(\"Sum:\", result)\n",
    "\n",
    "# Function with default parameters\n",
    "def power(base, exponent=2):\n",
    "    return base ** exponent\n",
    "\n",
    "print(\"Power (2^3):\", power(2, 3))\n",
    "print(\"Power (4^2):\", power(4))"
   ]
  },
  {
   "cell_type": "markdown",
   "id": "b0cc728f",
   "metadata": {},
   "source": [
    "🌐 Feel free to connect with [me](https://www.linkedin.com/in/aziz-ullah-khan/) if you have questions or want to discuss this fascinating journey further! Let's continue exploring together."
   ]
  },
  {
   "cell_type": "code",
   "execution_count": null,
   "id": "cd198cb2",
   "metadata": {},
   "outputs": [],
   "source": []
  }
 ],
 "metadata": {
  "kernelspec": {
   "display_name": "Python 3 (ipykernel)",
   "language": "python",
   "name": "python3"
  },
  "language_info": {
   "codemirror_mode": {
    "name": "ipython",
    "version": 3
   },
   "file_extension": ".py",
   "mimetype": "text/x-python",
   "name": "python",
   "nbconvert_exporter": "python",
   "pygments_lexer": "ipython3",
   "version": "3.11.3"
  }
 },
 "nbformat": 4,
 "nbformat_minor": 5
}
