{
 "cells": [
  {
   "cell_type": "markdown",
   "id": "88e594c5",
   "metadata": {},
   "source": [
    "# 📘 Introduction to Python\n",
    "\n",
    "✍️ Aziz Ullah Khan | 📅 March 14, 2024\n",
    "\n",
    "---\n",
    "\n",
    "## 🚀 Overview\n",
    "\n",
    "\n",
    "Python is a popular programming language. It was created by Guido van Rossum, and released in 1991.\n",
    "\n",
    "---\n",
    "\n",
    "## 📚 Table of Contents\n",
    "\n",
    "1. [1. What is Python?](#1.-What-is-Python?)\n",
    "2. [2. What can Python do?](#2.-What-can-Python-do?)\n",
    "3. [3. What makes Python stand out?](#3.-What-makes-Python-stand-out?)\n",
    "4. [Comparison of Python Syntax](#4.-Comparison-of-Python-Syntax-with-Other-Programming-Languages.)\n",
    "5. [Installation](#5.-Installation)\n",
    "6. [Summary](#6.-Summary)"
   ]
  },
  {
   "cell_type": "markdown",
   "id": "e51f9e8d-b063-4ee5-bf92-50d6d0cd69c8",
   "metadata": {},
   "source": [
    "## 1.  What is Python?\n",
    "---\n",
    "\n",
    "- Python is a high-level, interpreted programming language known for its simplicity and readability. It is widely used in various domains such as web development, data science, artificial intelligence, and more.\n"
   ]
  },
  {
   "cell_type": "markdown",
   "id": "c71f419b-ba78-4d9e-b4b6-a5178768e6d6",
   "metadata": {},
   "source": [
    "## 2. What can Python do?\n",
    "---\n",
    "\n",
    "- Python can be used on a server to create web applications.\n",
    "- Python can be used alongside software to create workflows.\n",
    "- Python can connect to database systems. It can also read and modify files.\n",
    "- Python can be used to handle big data and perform complex mathematics.\n",
    "- Python can be used for rapid prototyping, or for production-ready software development."
   ]
  },
  {
   "cell_type": "markdown",
   "id": "149984f8-fe46-4bad-bf80-b32ac7f2fc17",
   "metadata": {},
   "source": [
    "## 3. What makes Python stand out?\n",
    "---\n",
    "\n",
    "- Python is compatible with various platforms including Windows, Mac, Linux, and Raspberry Pi.\n",
    "- Its syntax is straightforward, resembling the English language.\n",
    "- Python enables developers to craft programs with fewer lines compared to many other languages.\n",
    "- Operating on an interpreter system, Python executes code immediately after it's written, facilitating rapid prototyping.\n",
    "- Python supports procedural, object-oriented, and functional programming paradigms.\n",
    "\n"
   ]
  },
  {
   "cell_type": "markdown",
   "id": "2efbaf0e-d868-4f64-9ba1-c95736452199",
   "metadata": {},
   "source": [
    "## 4. Comparison of Python Syntax with Other Programming Languages.\n",
    "---\n",
    "\n",
    "- Python was crafted with a focus on readability, drawing inspiration from English and incorporating elements from mathematics.\n",
    "- In Python, commands are concluded with new lines instead of semicolons or parentheses commonly used in other programming languages.\n",
    "- Python employs indentation, utilizing whitespace to delineate scope, including loops, functions, and classes, whereas other programming languages typically use curly brackets for this purpose."
   ]
  },
  {
   "cell_type": "markdown",
   "id": "1487f547-75c9-43d4-aedc-73ea5bb8b1fc",
   "metadata": {},
   "source": [
    "## 5. Installation\n",
    "---\n",
    "\n",
    "1. Download & install Python from https://www.python.org/\n",
    "2. Open the terminal and check **python --version** to check the version\n",
    "3. Open Editor and check the version:\n",
    "    ```python\n",
    "        import sys\n",
    "        print(sys.version)\n",
    "        \n",
    "*3.12.0 | packaged by Anaconda, Inc. | (main, Oct  2 2023, 17:29:18) [GCC 11.2.0]*\n"
   ]
  },
  {
   "cell_type": "markdown",
   "id": "c597997d",
   "metadata": {},
   "source": [
    "# 6. Summary\n",
    "---\n",
    "- Python Overview:\\\n",
    "    High-level, readable, and versatile language.\\\n",
    "    Used in web dev, data science, AI, etc.\n",
    "- Capabilities:\\\n",
    "    Web app creation, workflows, database connection.\\\n",
    "    Handles big data, complex math.\\\n",
    "    Great for prototyping and production.\n",
    "- Unique Features:\\\n",
    "    Compatible across platforms.\\\n",
    "    Simple syntax, fewer lines of code.\\\n",
    "    Immediate execution for rapid prototyping.\\\n",
    "    Supports various programming paradigms.\n",
    "- Syntax:\\\n",
    "    Readable, inspired by English.\\\n",
    "    Uses new lines instead of semicolons.\\\n",
    "    Indentation-based scoping.\n",
    "- Installation:\\\n",
    "    Download from https://www.python.org/. \\\n",
    "    Check version in terminal (python --version).\\\n",
    "    Verify in editor."
   ]
  },
  {
   "cell_type": "markdown",
   "id": "a06330ba",
   "metadata": {},
   "source": [
    "🌐 Feel free to connect with [me](https://www.linkedin.com/in/aziz-ullah-khan/) if you have questions or want to discuss this fascinating journey further! Let's continue exploring together."
   ]
  }
 ],
 "metadata": {
  "kernelspec": {
   "display_name": "Python 3 (ipykernel)",
   "language": "python",
   "name": "python3"
  },
  "language_info": {
   "codemirror_mode": {
    "name": "ipython",
    "version": 3
   },
   "file_extension": ".py",
   "mimetype": "text/x-python",
   "name": "python",
   "nbconvert_exporter": "python",
   "pygments_lexer": "ipython3",
   "version": "3.12.0"
  }
 },
 "nbformat": 4,
 "nbformat_minor": 5
}
