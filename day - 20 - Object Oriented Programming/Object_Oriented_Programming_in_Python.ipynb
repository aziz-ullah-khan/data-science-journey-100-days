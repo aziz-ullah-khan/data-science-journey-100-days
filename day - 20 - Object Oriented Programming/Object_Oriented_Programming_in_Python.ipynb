{
 "cells": [
  {
   "cell_type": "markdown",
   "id": "7dad1b35",
   "metadata": {},
   "source": [
    "# 📘 Object-Oriented Programming (OOP) in Python\n",
    "\n",
    "✍️ Aziz Ullah Khan | 📅 July 10, 2024\n",
    "\n",
    "---\n",
    "\n",
    "## 🚀 Overview\n",
    "\n",
    "Object-Oriented Programming (OOP) is a programming paradigm that uses objects and classes to structure software programs. Python, being an object-oriented language, allows for a clear and modular way to structure your code.\n",
    "\n",
    "\n",
    "---\n",
    "\n",
    "## 📚 Table of Contents\n",
    "\n",
    "- Basics of OOP\n",
    "  - Classes and Objects\n",
    "  - Methods and Attributes\n",
    "- Advanced OOP Concepts\n",
    "  - Inheritance\n",
    "  - Polymorphism\n",
    "  - Encapsulation\n",
    "  - Abstraction\n",
    "- Special Methods (Magic Methods)\n",
    "- Real-world Applications of OOP\n",
    "\n",
    "Let's get started!\n"
   ]
  },
  {
   "cell_type": "markdown",
   "id": "2ea59f81",
   "metadata": {},
   "source": [
    "\n",
    "## Basics of OOP\n",
    "\n",
    "### Classes and Objects\n",
    "\n",
    "A **class** is a blueprint for creating objects. An **object** is an instance of a class. <u>I personally call object as a user defined *data type*.</u> Let's create a simple class and object in Python.\n"
   ]
  },
  {
   "cell_type": "code",
   "execution_count": 12,
   "id": "54f27753",
   "metadata": {},
   "outputs": [
    {
     "name": "stdout",
     "output_type": "stream",
     "text": [
      "Cisko\n",
      "3\n",
      "Cisko is 3 years old\n"
     ]
    }
   ],
   "source": [
    "# Define a class\n",
    "class Dog:\n",
    "    # Attribute\n",
    "    species = \"Canis familiaris\"\n",
    "    \n",
    "    # Initialize / Constructor\n",
    "    def __init__(self, name, age):\n",
    "        self.name = name\n",
    "        self.age = age\n",
    "\n",
    "    # Method\n",
    "    def description(self):\n",
    "        return f\"{self.name} is {self.age} years old\"\n",
    "\n",
    "# Create an object\n",
    "my_dog = Dog(\"Cisko\", 3)\n",
    "\n",
    "# Access attributes and methods\n",
    "print(my_dog.name)\n",
    "print(my_dog.age)\n",
    "print(my_dog.description())\n"
   ]
  },
  {
   "cell_type": "markdown",
   "id": "2684b3e4",
   "metadata": {},
   "source": [
    "\n",
    "### Methods and Attributes\n",
    "\n",
    "Attributes are variables that belong to a class, while methods are functions that belong to a class. In the previous example, `name` and `age` are attributes, and `description()` is a method.\n"
   ]
  },
  {
   "cell_type": "markdown",
   "id": "843b3c16",
   "metadata": {},
   "source": [
    "\n",
    "## Advanced OOP Concepts\n",
    "\n",
    "### Inheritance\n",
    "\n",
    "Inheritance allows us to define a class that inherits all the methods and properties from another class. Let's see an example.\n"
   ]
  },
  {
   "cell_type": "code",
   "execution_count": 13,
   "id": "4e9ad4ee",
   "metadata": {},
   "outputs": [
    {
     "name": "stdout",
     "output_type": "stream",
     "text": [
      "Buddy says Woof!\n"
     ]
    }
   ],
   "source": [
    "# Define a base class\n",
    "class Animal:\n",
    "    def __init__(self, name):\n",
    "        self.name = name\n",
    "\n",
    "    def speak(self):\n",
    "        raise NotImplementedError(\"Subclass must implement abstract method\")\n",
    "\n",
    "# Define a subclass\n",
    "class Dog(Animal):\n",
    "    def speak(self):\n",
    "        return f\"{self.name} says Woof!\"\n",
    "\n",
    "# Create an object of the subclass\n",
    "my_dog = Dog(\"Buddy\")\n",
    "print(my_dog.speak())\n"
   ]
  },
  {
   "cell_type": "markdown",
   "id": "be92a13e",
   "metadata": {},
   "source": [
    "\n",
    "### Polymorphism\n",
    "\n",
    "Polymorphism allows us to use a single interface to represent different data types. In OOP, it refers to the ability of different classes to be treated as instances of the same class through inheritance. Here's an example:\n"
   ]
  },
  {
   "cell_type": "code",
   "execution_count": 14,
   "id": "cbabe7e6",
   "metadata": {},
   "outputs": [
    {
     "name": "stdout",
     "output_type": "stream",
     "text": [
      "Buddy says Woof!\n",
      "Whiskers says Meow!\n"
     ]
    }
   ],
   "source": [
    "class Cat(Animal):\n",
    "    def speak(self):\n",
    "        return f\"{self.name} says Meow!\"\n",
    "\n",
    "# Create objects\n",
    "my_cat = Cat(\"Whiskers\")\n",
    "animals = [my_dog, my_cat]\n",
    "\n",
    "for animal in animals:\n",
    "    print(animal.speak())\n"
   ]
  },
  {
   "cell_type": "markdown",
   "id": "bc31647e",
   "metadata": {},
   "source": [
    "\n",
    "### Encapsulation\n",
    "\n",
    "Encapsulation is the concept of wrapping data and methods that work on data within one unit, like a class. It restricts direct access to some of the object's components, which can prevent accidental modification of data. \n"
   ]
  },
  {
   "cell_type": "code",
   "execution_count": 15,
   "id": "a4843546",
   "metadata": {},
   "outputs": [
    {
     "name": "stdout",
     "output_type": "stream",
     "text": [
      "3\n",
      "Age must be positive!\n",
      "3\n"
     ]
    }
   ],
   "source": [
    "class ProtectedDog:\n",
    "    def __init__(self, name, age):\n",
    "        self.name = name\n",
    "        self.__age = age  # Private attribute\n",
    "\n",
    "    def get_age(self):\n",
    "        return self.__age\n",
    "\n",
    "    def set_age(self, age):\n",
    "        if age > 0:\n",
    "            self.__age = age\n",
    "        else:\n",
    "            print(\"Age must be positive!\")\n",
    "\n",
    "# Create an object\n",
    "my_protected_dog = ProtectedDog(\"Buddy\", 3)\n",
    "print(my_protected_dog.get_age())\n",
    "\n",
    "# Try to set a negative age\n",
    "my_protected_dog.set_age(-1)\n",
    "print(my_protected_dog.get_age())\n"
   ]
  },
  {
   "cell_type": "markdown",
   "id": "7634e44b",
   "metadata": {},
   "source": [
    "\n",
    "### Abstraction\n",
    "\n",
    "Abstraction is the process of hiding the complex implementation details and showing only the necessary features of the object. It can be achieved using abstract classes and methods in Python.\n"
   ]
  },
  {
   "cell_type": "code",
   "execution_count": 16,
   "id": "57e5ec7b",
   "metadata": {},
   "outputs": [
    {
     "name": "stdout",
     "output_type": "stream",
     "text": [
      "Woof!\n",
      "Meow!\n"
     ]
    }
   ],
   "source": [
    "from abc import ABC, abstractmethod\n",
    "\n",
    "class Animal(ABC):\n",
    "    @abstractmethod\n",
    "    def speak(self):\n",
    "        pass\n",
    "\n",
    "class Dog(Animal):\n",
    "    def speak(self):\n",
    "        return \"Woof!\"\n",
    "\n",
    "class Cat(Animal):\n",
    "    def speak(self):\n",
    "        return \"Meow!\"\n",
    "\n",
    "# Create objects\n",
    "dog = Dog()\n",
    "cat = Cat()\n",
    "print(dog.speak())\n",
    "print(cat.speak())\n"
   ]
  },
  {
   "cell_type": "markdown",
   "id": "7ef1b5ac",
   "metadata": {},
   "source": [
    "\n",
    "## Special Methods (Magic Methods)\n",
    "\n",
    "Special methods in Python are also known as magic methods. They are used to define how objects of a class behave with built-in operations. For example, `__init__` is a special method that initializes an object. Let's see some other magic methods.\n"
   ]
  },
  {
   "cell_type": "code",
   "execution_count": 17,
   "id": "85c7ebfc",
   "metadata": {},
   "outputs": [
    {
     "name": "stdout",
     "output_type": "stream",
     "text": [
      "Python hacks by Aziz Ullah Khan\n",
      "200\n"
     ]
    }
   ],
   "source": [
    "class Book:\n",
    "    def __init__(self, title, author, pages):\n",
    "        self.title = title\n",
    "        self.author = author\n",
    "        self.pages = pages\n",
    "\n",
    "    def __str__(self):\n",
    "        return f\"{self.title} by {self.author}\"\n",
    "\n",
    "    def __len__(self):\n",
    "        return self.pages\n",
    "\n",
    "# Create an object\n",
    "my_book = Book(\"Python hacks\", \"Aziz Ullah Khan\", 200)\n",
    "\n",
    "# Use special methods\n",
    "print(my_book)\n",
    "print(len(my_book))\n"
   ]
  },
  {
   "cell_type": "markdown",
   "id": "794f98d0",
   "metadata": {},
   "source": [
    "\n",
    "## Remarks\n",
    "\n",
    "- Object-Oriented Programming is widely used in software development due to its modularity and reusability.\n",
    "\n",
    "- Understanding and mastering OOP can significantly enhance your ability to write clean and efficient code. \n",
    "\n",
    "- Keep practicing and exploring!\n"
   ]
  },
  {
   "cell_type": "markdown",
   "id": "68d54d19",
   "metadata": {},
   "source": [
    "🌐 Feel free to connect with [me](https://www.linkedin.com/in/aziz-ullah-khan/) if you have questions or want to discuss this fascinating journey further! Let's continue exploring together."
   ]
  }
 ],
 "metadata": {
  "kernelspec": {
   "display_name": "Python 3 (ipykernel)",
   "language": "python",
   "name": "python3"
  },
  "language_info": {
   "codemirror_mode": {
    "name": "ipython",
    "version": 3
   },
   "file_extension": ".py",
   "mimetype": "text/x-python",
   "name": "python",
   "nbconvert_exporter": "python",
   "pygments_lexer": "ipython3",
   "version": "3.11.3"
  }
 },
 "nbformat": 4,
 "nbformat_minor": 5
}
