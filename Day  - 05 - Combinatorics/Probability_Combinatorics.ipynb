{
 "cells": [
  {
   "cell_type": "markdown",
   "id": "88e594c5",
   "metadata": {},
   "source": [
    "# 📘 Probability - Combinatorics\n",
    "\n",
    "✍️ **Author:** Aziz Ullah Khan | 📅 **Date:** February 24, 2024\n",
    "\n",
    "---\n",
    "\n",
    "## 🚀 Overview\n",
    "\n",
    "Combinatorics is a branch of mathematics that deals with counting, arranging, and combining objects or elements.\n",
    "\n",
    "---\n",
    "\n",
    "## 📚 Table of Contents\n",
    "\n",
    "1. [Permutation](#1.Permutation)\n",
    "2. [Factorial](#2.Factorial)\n",
    "3. [Variations](#3.Variations)\n",
    "4. [Combinations](#4.Combinations)\n",
    "5. [Summary](#5.Summary)"
   ]
  },
  {
   "cell_type": "markdown",
   "id": "177a879a",
   "metadata": {},
   "source": [
    "# 🌟 1.Permutation\n",
    "---\n",
    "Permutations represent the number of different possible ways we can **arrange** a number of elements.\n",
    "\n",
    "$$\n",
    "P(n) = n \\times (n-1) \\times (n-2) \\times \\ldots \\times 1\n",
    "$$\n",
    "\n",
    "\n",
    "**Characteristics of Permutations:**\n",
    "- Arranging all elements within the sample space.\n",
    "- No repetition\n",
    "- P(𝑛) = 𝑛 × 𝑛 − 1 × 𝑛 − 2 × ⋯ × 1 = 𝑛! (Here, **n!** is the factorial)\n",
    "\n",
    "**Example:**\n",
    "- If we need to arrange 4 people, we would have P(4) = 24 ways of doing so.\n"
   ]
  },
  {
   "cell_type": "markdown",
   "id": "0de85332",
   "metadata": {},
   "source": [
    "# 🌟 2. Factorials\n",
    "---\n",
    "\n",
    "Factorials express the product of all integers from 1 to n and we denote them with the **!** symbol.\n",
    "\n",
    "$$\n",
    "n! = n \\times (n-1) \\times (n-2) \\times \\ldots \\times 1\n",
    "$$\n",
    "\n",
    "**Remember:**\n",
    "- 0! = 1.\n",
    "- If n<0, n! does not exist."
   ]
  },
  {
   "cell_type": "markdown",
   "id": "553d2249",
   "metadata": {},
   "source": [
    "# 🌟 3. Variations\n",
    "---\n",
    "\n",
    "Variations represent the number of different possible ways we can **pick and arrange** a number of elements.\n",
    "\n",
    "\n",
    " 1. Variation with Repetitions \n",
    " \n",
    "     $\\overline{V}(n, p) = n^p $\n",
    "     \n",
    "Here, $\\overline{V}$ represents variations *with* repetition, where $n$ is the number of different elements available, and $p$ is the number of elements we are arranging.\n",
    "\n",
    " 2. Variations without repetition\n",
    "    \n",
    "    $V(n, p) = \\frac{n!}{(n-p)!}$\n",
    "    \n",
    "Here, $V$ represents variations **without** repetition, where $n$ is the number of different elements available, and $p$ is the number of elements we are arranging.\n",
    "\n",
    " "
   ]
  },
  {
   "cell_type": "markdown",
   "id": "667783b8",
   "metadata": {},
   "source": [
    "# 🌟 3. Combinations\n",
    "---\n",
    "\n",
    "Combinations represent the number of different possible ways we can **pick** a number of elements\n",
    "\n",
    "**1. Comtinitions without repetitions**\n",
    "\n",
    "$$C(n, p) = \\frac{n!}{(n-p)!p!}$$\n",
    "\n",
    "Here, $C$ represents combinations **without**, where $n$ is the total number of elements in the sample space, and $p$ is the number of elements we need to select\n",
    "\n",
    "**Remember**\n",
    "- $C_{p}^n = C_{n-p}^{n}$, so combinations is symmetric, selecting $p$ elements is the same as omitting $n-p$ elements.\n",
    "\n",
    "**2. Comtinitions with repetitions**\n",
    "$$\\overline{C}(n, p) = \\frac{(n+p-1)!}{(n-1)!p!}$$\n",
    "\n",
    "Here, $\\overline{C}$ represents combinations **with** repetition, where $n$ is the total number of elements in the sample space, and $p$ is the number of elements we need to select\n",
    "\n",
    "**Combinations with separate sample spaces**\n",
    "\n",
    "$C = n_1 \\times n_2 \\times \\ldots \\times n_p$\n",
    "\n",
    "Here, C represents combiations, $n_1$ size of first sample space, $n_2$ size of second sample space, $n_p$ size of last sample space\n",
    "\n",
    "\n",
    "**Example**\n",
    "\n",
    "*Winning the Lottery*\n",
    "\n",
    "*Rules-*\n",
    "For wining the lotter, the following two distinct independent events need to satisty.\n",
    " 1. Correctly guess the *Powerball number.* (From 1 to 26)\n",
    " 2. Correctly guess the *5 regular numbers.* (From 1 to 69)\n",
    " \n",
    "**Finding the combinitions:**\n",
    "\n",
    "$C = C_{\\text{5 numbers}} \\times C_{\\text{powerball number}}$\n",
    "\n",
    "$C_{\\text{5 numbers}} \\text{ sample space contain } \\frac{69!}{64!5!}$ combinations and $C_{\\text{powerball number}} \\text{ contain } 26$ \n",
    "\n",
    "$C = \\frac{69!}{64!5!}\\times 26 $ are the total combinitions\n",
    "\n",
    "**Chances of wining this lottery with single ticket**\n",
    "\n",
    "$p = 1/({\\frac{69!}{64!5!}\\times 26})$\n",
    "\n",
    "Here, $p$ is the pobability of wining the lottery with single ticket.\n",
    "\n"
   ]
  },
  {
   "cell_type": "markdown",
   "id": "21158696",
   "metadata": {},
   "source": [
    "# 🌟 4. Summary\n",
    "\n",
    "- Permutation is the different possible ways we can range number of elements.\n",
    "- Variations is the different possible ways we can pick and arrange number of elements.\n",
    "- Combinitaiton is the different possible ways we can pick number of elements."
   ]
  },
  {
   "cell_type": "markdown",
   "id": "6965c1ff",
   "metadata": {},
   "source": [
    "🌐 Feel free to connect with [me](https://www.linkedin.com/in/aziz-ullah-khan/) if you have questions or want to discuss this fascinating journey further! Let's continue exploring together. \n"
   ]
  },
  {
   "cell_type": "code",
   "execution_count": null,
   "id": "4561cc1d",
   "metadata": {},
   "outputs": [],
   "source": []
  }
 ],
 "metadata": {
  "kernelspec": {
   "display_name": "Python 3 (ipykernel)",
   "language": "python",
   "name": "python3"
  },
  "language_info": {
   "codemirror_mode": {
    "name": "ipython",
    "version": 3
   },
   "file_extension": ".py",
   "mimetype": "text/x-python",
   "name": "python",
   "nbconvert_exporter": "python",
   "pygments_lexer": "ipython3",
   "version": "3.11.3"
  }
 },
 "nbformat": 4,
 "nbformat_minor": 5
}
