{
 "cells": [
  {
   "cell_type": "markdown",
   "id": "2ea78dc8",
   "metadata": {},
   "source": [
    "# 📘 Sequences and Iterations\n",
    "\n",
    "✍️ Aziz Ullah Khan | 📅 June 27, 2024\n",
    "\n",
    "---\n",
    "\n",
    "## 🚀 Overview\n",
    "\n",
    "In today's notebook, we will cover sequences and iterations in Python. Sequences are an essential part of Python programming, allowing us to store collections of data. Iterations, on the other hand, are used to repeat a block of code multiple times. We'll explore both topics in detail with examples and advanced use cases.\n",
    "\n",
    "\n",
    "---\n",
    "\n",
    "## 📚 Table of Contents\n",
    "\n",
    "1. Sequences\n",
    "2. List Operation\n",
    "3. Tuples\n",
    "4. Strings\n",
    "5. Iterations"
   ]
  },
  {
   "cell_type": "markdown",
   "id": "c1f8d97f",
   "metadata": {},
   "source": [
    "## Sequences\n",
    "\n",
    "Sequences are ordered collections of items. Python supports several sequence types, including lists, tuples, and strings. Each item in a sequence is assigned a unique index, starting from 0."
   ]
  },
  {
   "cell_type": "code",
   "execution_count": 1,
   "id": "070d4a36",
   "metadata": {},
   "outputs": [
    {
     "name": "stdout",
     "output_type": "stream",
     "text": [
      "Aziz Ullah Khan's favorite programming languages: ['Python', 'JavaScript', 'R', 'Java']\n"
     ]
    }
   ],
   "source": [
    "# Example: List of favorite programming languages\n",
    "favorite_languages = [\"Python\", \"JavaScript\", \"R\", \"Java\"]\n",
    "print(\"Aziz Ullah Khan's favorite programming languages:\", favorite_languages)"
   ]
  },
  {
   "cell_type": "markdown",
   "id": "fc5ca8e6",
   "metadata": {},
   "source": [
    "### List Operations\n",
    "Lists are mutable, meaning we can change their content after creation. Common operations include appending, removing, and slicing."
   ]
  },
  {
   "cell_type": "code",
   "execution_count": 2,
   "id": "5cb14acb",
   "metadata": {},
   "outputs": [
    {
     "name": "stdout",
     "output_type": "stream",
     "text": [
      "Updated list: ['Python', 'JavaScript', 'R', 'Java', 'C++']\n",
      "List after removal: ['Python', 'JavaScript', 'Java', 'C++']\n",
      "First two languages: ['Python', 'JavaScript']\n"
     ]
    }
   ],
   "source": [
    "# Adding a new language to the list\n",
    "favorite_languages.append(\"C++\")\n",
    "print(\"Updated list:\", favorite_languages)\n",
    "\n",
    "# Removing a language from the list\n",
    "favorite_languages.remove(\"R\")\n",
    "print(\"List after removal:\", favorite_languages)\n",
    "\n",
    "# Slicing the list\n",
    "print(\"First two languages:\", favorite_languages[:2])"
   ]
  },
  {
   "cell_type": "markdown",
   "id": "a0400ff5",
   "metadata": {},
   "source": [
    "### Tuples\n",
    "Tuples are similar to lists but are immutable, meaning their content cannot be changed after creation. Tuples are useful for representing fixed collections of items."
   ]
  },
  {
   "cell_type": "code",
   "execution_count": 3,
   "id": "61afc2a0",
   "metadata": {},
   "outputs": [
    {
     "name": "stdout",
     "output_type": "stream",
     "text": [
      "Aziz Ullah Khan's professional skills: ('Data Analysis', 'Machine Learning', 'Deep Learning')\n",
      "First skill: Data Analysis\n"
     ]
    }
   ],
   "source": [
    "# Example: Tuple of professional skills\n",
    "skills = (\"Data Analysis\", \"Machine Learning\", \"Deep Learning\")\n",
    "print(\"Aziz Ullah Khan's professional skills:\", skills)\n",
    "\n",
    "# Accessing elements in a tuple\n",
    "print(\"First skill:\", skills[0])"
   ]
  },
  {
   "cell_type": "markdown",
   "id": "32a857e3",
   "metadata": {},
   "source": [
    "### Strings\n",
    "Strings are sequences of characters. They are immutable, similar to tuples. Python provides a rich set of methods for string manipulation."
   ]
  },
  {
   "cell_type": "code",
   "execution_count": 4,
   "id": "e9977e70",
   "metadata": {},
   "outputs": [
    {
     "name": "stdout",
     "output_type": "stream",
     "text": [
      "Aziz Ullah Khan is a Data Scientist.\n",
      "First name: Aziz\n"
     ]
    }
   ],
   "source": [
    "# Example: String manipulation\n",
    "full_name = \"Aziz Ullah Khan\"\n",
    "profession = \"Data Scientist\"\n",
    "introduction = f\"{full_name} is a {profession}.\"\n",
    "print(introduction)\n",
    "\n",
    "# String slicing\n",
    "print(\"First name:\", full_name[:4])"
   ]
  },
  {
   "cell_type": "markdown",
   "id": "bc4ef8ed",
   "metadata": {},
   "source": [
    "## Iterations\n",
    "\n",
    "Iterations allow us to execute a block of code multiple times. Python provides several iteration constructs, including `for` and `while` loops."
   ]
  },
  {
   "cell_type": "markdown",
   "id": "82e91713",
   "metadata": {},
   "source": [
    "### For Loops\n",
    "For loops are used to iterate over a sequence of items. They are especially useful for iterating over lists, tuples, and strings."
   ]
  },
  {
   "cell_type": "code",
   "execution_count": 5,
   "id": "d66c54ec",
   "metadata": {},
   "outputs": [
    {
     "name": "stdout",
     "output_type": "stream",
     "text": [
      "Python\n",
      "JavaScript\n",
      "Java\n",
      "C++\n"
     ]
    }
   ],
   "source": [
    "# Example: Iterating over a list of languages\n",
    "for language in favorite_languages:\n",
    "    print(language)"
   ]
  },
  {
   "cell_type": "markdown",
   "id": "830c1f03",
   "metadata": {},
   "source": [
    "### While Loops\n",
    "While loops are used to execute a block of code as long as a condition is true. They are useful for cases where the number of iterations is not known beforehand."
   ]
  },
  {
   "cell_type": "code",
   "execution_count": 6,
   "id": "a3bcde5e",
   "metadata": {},
   "outputs": [
    {
     "name": "stdout",
     "output_type": "stream",
     "text": [
      "5\n",
      "4\n",
      "3\n",
      "2\n",
      "1\n",
      "Liftoff!\n"
     ]
    }
   ],
   "source": [
    "# Example: Counting down from 5\n",
    "count = 5\n",
    "while count > 0:\n",
    "    print(count)\n",
    "    count -= 1\n",
    "print(\"Liftoff!\")"
   ]
  },
  {
   "cell_type": "markdown",
   "id": "b2f007be",
   "metadata": {},
   "source": [
    "### Nested Loops\n",
    "Nested loops are loops inside loops. They are useful for working with multi-dimensional data structures, such as matrices."
   ]
  },
  {
   "cell_type": "code",
   "execution_count": 7,
   "id": "a8a31a67",
   "metadata": {},
   "outputs": [
    {
     "name": "stdout",
     "output_type": "stream",
     "text": [
      " 1  2  3  4  5 \n",
      " 2  4  6  8 10 \n",
      " 3  6  9 12 15 \n",
      " 4  8 12 16 20 \n",
      " 5 10 15 20 25 \n"
     ]
    }
   ],
   "source": [
    "# Example: Multiplication table\n",
    "for i in range(1, 6):  # Rows\n",
    "    for j in range(1, 6):  # Columns\n",
    "        print(f\"{i * j:2}\", end=\" \")\n",
    "    print()  # Newline after each row"
   ]
  },
  {
   "cell_type": "markdown",
   "id": "09547d4e",
   "metadata": {},
   "source": [
    "### List Comprehensions\n",
    "List comprehensions provide a concise way to create lists. They consist of brackets containing an expression followed by a `for` clause, and optionally `if` clauses."
   ]
  },
  {
   "cell_type": "code",
   "execution_count": 8,
   "id": "c1531eba",
   "metadata": {},
   "outputs": [
    {
     "name": "stdout",
     "output_type": "stream",
     "text": [
      "Squares of even numbers from 0 to 9: [0, 4, 16, 36, 64]\n"
     ]
    }
   ],
   "source": [
    "# Example: Squares of even numbers from 0 to 9\n",
    "squares = [x**2 for x in range(10) if x % 2 == 0]\n",
    "print(\"Squares of even numbers from 0 to 9:\", squares)"
   ]
  },
  {
   "cell_type": "markdown",
   "id": "645731d6",
   "metadata": {},
   "source": [
    "### Dictionary Comprehensions\n",
    "Dictionary comprehensions provide a concise way to create dictionaries. They follow a similar syntax to list comprehensions."
   ]
  },
  {
   "cell_type": "code",
   "execution_count": 9,
   "id": "c36a53e8",
   "metadata": {},
   "outputs": [
    {
     "name": "stdout",
     "output_type": "stream",
     "text": [
      "Dictionary of squares: {0: 0, 1: 1, 2: 4, 3: 9, 4: 16}\n"
     ]
    }
   ],
   "source": [
    "# Example: Dictionary of squares\n",
    "square_dict = {x: x**2 for x in range(5)}\n",
    "print(\"Dictionary of squares:\", square_dict)"
   ]
  },
  {
   "cell_type": "markdown",
   "id": "13b9e7a8",
   "metadata": {},
   "source": [
    "### Summary\n",
    "In this notebook, we covered sequences and iterations in Python. We explored lists, tuples, and strings, and demonstrated various ways to manipulate these sequences. We also discussed different types of loops and advanced examples, including nested loops and comprehensions. Understanding these concepts is fundamental for efficient Python programming."
   ]
  },
  {
   "cell_type": "markdown",
   "id": "2bdfa713",
   "metadata": {},
   "source": [
    "🌐 Feel free to connect with [me](https://www.linkedin.com/in/aziz-ullah-khan/) if you have questions or want to discuss this fascinating journey further! Let's continue exploring together."
   ]
  }
 ],
 "metadata": {
  "kernelspec": {
   "display_name": "Python 3 (ipykernel)",
   "language": "python",
   "name": "python3"
  },
  "language_info": {
   "codemirror_mode": {
    "name": "ipython",
    "version": 3
   },
   "file_extension": ".py",
   "mimetype": "text/x-python",
   "name": "python",
   "nbconvert_exporter": "python",
   "pygments_lexer": "ipython3",
   "version": "3.11.3"
  }
 },
 "nbformat": 4,
 "nbformat_minor": 5
}
