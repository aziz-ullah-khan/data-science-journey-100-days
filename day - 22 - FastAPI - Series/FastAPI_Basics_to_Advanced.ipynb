{
 "cells": [
  {
   "cell_type": "markdown",
   "id": "f41d77ef",
   "metadata": {},
   "source": [
    "\n",
    "\n",
    "# 📘 FastAPI - Series: From Basics to Advanced\n",
    "\n",
    "✍️ ~~Aziz Ullah Khan~~ | 📅 July 18, 2024\n",
    "\n",
    "**Reference:** https://fastapi.tiangolo.com/\n",
    "\n",
    "---\n",
    "\n",
    "## 🚀 Introduction to FastAPI\n",
    "\n",
    "FastAPI is a modern, fast (high-performance), web framework for building APIs with Python 3.6+ based on standard Python type hints. \n",
    "\n",
    "The key features are:\n",
    "\n",
    "- Fast: Very high performance, on par with NodeJS and Go (thanks to Starlette and Pydantic). One of the fastest Python frameworks available.\n",
    "- Fast to code: Increase the speed to develop features by about 200% to 300%. \n",
    "- Fewer bugs: Reduce about 40% of human (developer) induced errors. \n",
    "- Intuitive: Great editor support. Completion everywhere. Less time debugging.\n",
    "- Easy: Designed to be easy to use and learn. Less time reading docs. \n",
    "- Short: Minimize code duplication. Multiple features from each parameter declaration. Fewer bugs. \n",
    "- Robust: Get production-ready code. With automatic interactive documentation. \n",
    "- Standards-based: Based on (and fully compatible with) the open standards for APIs: OpenAPI and JSON Schema."
   ]
  },
  {
   "cell_type": "markdown",
   "id": "089a3f8b",
   "metadata": {},
   "source": [
    "## Installing required packages"
   ]
  },
  {
   "cell_type": "code",
   "execution_count": 1,
   "id": "e4ac515f",
   "metadata": {},
   "outputs": [],
   "source": [
    "# !pip install fastapi[all] uvicorn[standard] nest_asyncio uvicorn # ASGI server for production such as `uvicorn'"
   ]
  },
  {
   "cell_type": "markdown",
   "id": "2a081369",
   "metadata": {},
   "source": [
    "# Creating a Basic FastAPI Application"
   ]
  },
  {
   "cell_type": "markdown",
   "id": "e10d6d10",
   "metadata": {},
   "source": [
    "Here's a simple example of a FastAPI application:\n"
   ]
  },
  {
   "cell_type": "code",
   "execution_count": 7,
   "id": "cb529b30",
   "metadata": {},
   "outputs": [
    {
     "name": "stderr",
     "output_type": "stream",
     "text": [
      "INFO:     Started server process [2033765]\n",
      "INFO:     Waiting for application startup.\n",
      "INFO:     Application startup complete.\n",
      "INFO:     Uvicorn running on http://127.0.0.1:8000 (Press CTRL+C to quit)\n"
     ]
    },
    {
     "name": "stdout",
     "output_type": "stream",
     "text": [
      "INFO:     127.0.0.1:55742 - \"GET / HTTP/1.1\" 200 OK\n",
      "INFO:     127.0.0.1:55742 - \"GET /favicon.ico HTTP/1.1\" 404 Not Found\n",
      "INFO:     127.0.0.1:55742 - \"GET / HTTP/1.1\" 200 OK\n",
      "INFO:     127.0.0.1:55742 - \"GET /favicon.ico HTTP/1.1\" 404 Not Found\n",
      "INFO:     127.0.0.1:53364 - \"GET / HTTP/1.1\" 200 OK\n",
      "INFO:     127.0.0.1:53364 - \"GET /favicon.ico HTTP/1.1\" 404 Not Found\n"
     ]
    },
    {
     "name": "stderr",
     "output_type": "stream",
     "text": [
      "INFO:     Shutting down\n",
      "INFO:     Waiting for application shutdown.\n",
      "INFO:     Application shutdown complete.\n",
      "INFO:     Finished server process [2033765]\n"
     ]
    }
   ],
   "source": [
    "from fastapi import FastAPI\n",
    "import nest_asyncio\n",
    "import uvicorn\n",
    "\n",
    "# Apply nest_asyncio to allow nested event loops - only for jupyter notebook\n",
    "nest_asyncio.apply()\n",
    "app = FastAPI()\n",
    "\n",
    "@app.get('/')\n",
    "def read_root():\n",
    "    return {\"Hello\": \"World\"}\n",
    "\n",
    "if __name__ == '__main__':\n",
    "    uvicorn.run(app, host='127.0.0.1', port=8000)"
   ]
  },
  {
   "cell_type": "markdown",
   "id": "579d84db",
   "metadata": {},
   "source": [
    "# Python Types Intro\n",
    "\n",
    "Python has support for optional \"type hints\" (also called \"type annotations\").\n",
    "These \"type hints\" or annotations are a special syntax that allow declaring the type of a variable.\n",
    "By declaring types for your variables, editors and tools can give you better support."
   ]
  },
  {
   "cell_type": "markdown",
   "id": "19d4f2b3",
   "metadata": {},
   "source": [
    "## Motivation\n",
    "Let's start with a simple example:"
   ]
  },
  {
   "cell_type": "code",
   "execution_count": 25,
   "id": "7d457ab0",
   "metadata": {},
   "outputs": [
    {
     "name": "stdout",
     "output_type": "stream",
     "text": [
      "John Doe\n"
     ]
    }
   ],
   "source": [
    "def get_full_name(first_name, last_name):\n",
    "    full_name = first_name.title() + \" \" + last_name.title()\n",
    "    return full_name\n",
    "\n",
    "print(get_full_name(\"john\", \"doe\"))"
   ]
  },
  {
   "cell_type": "markdown",
   "id": "d2359681",
   "metadata": {},
   "source": [
    "This function:\n",
    "- Takes a `first_name` and `last_name`.\n",
    "- Converts the first letter of each one to upper case with `title()`.\n",
    "- Concatenates them with a space in the middle.\n"
   ]
  },
  {
   "cell_type": "markdown",
   "id": "2ca2d6da",
   "metadata": {},
   "source": [
    "## Add types\n",
    "We can add type hints to the function parameters:"
   ]
  },
  {
   "cell_type": "code",
   "execution_count": 26,
   "id": "aae678f4",
   "metadata": {},
   "outputs": [
    {
     "name": "stdout",
     "output_type": "stream",
     "text": [
      "John Doe\n"
     ]
    }
   ],
   "source": [
    "def get_full_name(first_name: str, last_name: str):\n",
    "    full_name = first_name.title() + \" \" + last_name.title()\n",
    "    return full_name\n",
    "\n",
    "print(get_full_name(\"john\", \"doe\"))"
   ]
  },
  {
   "cell_type": "markdown",
   "id": "96b7d7e7",
   "metadata": {},
   "source": [
    "Type hints don't change the behavior of the code but help with editor support and error checks.\n"
   ]
  },
  {
   "cell_type": "markdown",
   "id": "a5584bbd",
   "metadata": {},
   "source": [
    "## More motivation\n",
    "Check this function, it already has type hints:"
   ]
  },
  {
   "cell_type": "code",
   "execution_count": 27,
   "id": "93850522",
   "metadata": {},
   "outputs": [],
   "source": [
    "def get_name_with_age(name: str, age: int):\n",
    "    name_with_age = name + \" is this old: \" + str(age)\n",
    "    return name_with_age"
   ]
  },
  {
   "cell_type": "markdown",
   "id": "b6213dae",
   "metadata": {},
   "source": [
    "Because the editor knows the types of the variables, you don't only get completion, you also get error checks.\n"
   ]
  },
  {
   "cell_type": "markdown",
   "id": "3e528af7",
   "metadata": {},
   "source": [
    "## Declaring types\n",
    "The main place to declare type hints is as function parameters.\n",
    "You can declare all the standard Python types:\n"
   ]
  },
  {
   "cell_type": "code",
   "execution_count": 28,
   "id": "16f6be33",
   "metadata": {},
   "outputs": [],
   "source": [
    "def get_items(item_a: str, item_b: int, item_c: float, item_d: bool, item_e: bytes):\n",
    "    return item_a, item_b, item_c, item_d, item_d, item_e\n"
   ]
  },
  {
   "cell_type": "markdown",
   "id": "969fcb9a",
   "metadata": {},
   "source": [
    "## Generic types with type parameters\n",
    "To declare generic types with internal types, use the standard Python module `typing`."
   ]
  },
  {
   "cell_type": "code",
   "execution_count": 33,
   "id": "d6be88b3",
   "metadata": {},
   "outputs": [],
   "source": [
    "from typing import List, Dict, Tuple, Set, Union, Optional"
   ]
  },
  {
   "cell_type": "markdown",
   "id": "ee0888ef",
   "metadata": {},
   "source": [
    "### List"
   ]
  },
  {
   "cell_type": "code",
   "execution_count": 32,
   "id": "bf8d36ae",
   "metadata": {},
   "outputs": [],
   "source": [
    "def process_items(items: list[str]):\n",
    "    for item in items:\n",
    "        print(item)\n"
   ]
  },
  {
   "cell_type": "markdown",
   "id": "2829fb60",
   "metadata": {},
   "source": [
    "### Tuple and Set"
   ]
  },
  {
   "cell_type": "code",
   "execution_count": 34,
   "id": "c3c8e433",
   "metadata": {},
   "outputs": [],
   "source": [
    "def process_items(items_t: tuple[int, int, str], items_s: set[bytes]):\n",
    "    return items_t, items_s"
   ]
  },
  {
   "cell_type": "markdown",
   "id": "059f863e",
   "metadata": {},
   "source": [
    "### Dict"
   ]
  },
  {
   "cell_type": "code",
   "execution_count": 35,
   "id": "2ad083a6",
   "metadata": {},
   "outputs": [],
   "source": [
    "def process_items(prices: dict[str, float]):\n",
    "    for item_name, item_price in prices.items():\n",
    "        print(item_name)\n",
    "        print(item_price)"
   ]
  },
  {
   "cell_type": "markdown",
   "id": "db1c34d6",
   "metadata": {},
   "source": [
    "### Union\n",
    "You can declare that a variable can be any of several types using `Union` or | operator if using 3.10 python version."
   ]
  },
  {
   "cell_type": "code",
   "execution_count": 30,
   "id": "e27528bf",
   "metadata": {},
   "outputs": [],
   "source": [
    "def process_item(item: int | str):\n",
    "    print(item)"
   ]
  },
  {
   "cell_type": "markdown",
   "id": "d8600e97",
   "metadata": {},
   "source": [
    "### Possibly None\n",
    "You can declare that a value could have a type, like `str`, but that it could also be `None` using `Optional`."
   ]
  },
  {
   "cell_type": "code",
   "execution_count": 31,
   "id": "d02d511b",
   "metadata": {},
   "outputs": [],
   "source": [
    "def say_hi(name: Optional[str] = None):\n",
    "    if name is not None:\n",
    "        print(f\"Hey {name}!\")\n",
    "    else:\n",
    "        print(\"Hello World\")"
   ]
  },
  {
   "cell_type": "markdown",
   "id": "447ac34a",
   "metadata": {},
   "source": [
    "### Classes as types\n",
    "You can also declare a class as the type of a variable.\n"
   ]
  },
  {
   "cell_type": "code",
   "execution_count": 36,
   "id": "b706afe5",
   "metadata": {},
   "outputs": [],
   "source": [
    "class Person:\n",
    "    def __init__(self, name: str):\n",
    "        self.name = name\n",
    "\n",
    "def get_person_name(one_person: Person):\n",
    "    return one_person.name"
   ]
  },
  {
   "cell_type": "markdown",
   "id": "a752cbce",
   "metadata": {},
   "source": [
    "### Pydantic models\n",
    "Pydantic is a Python library to perform data validation.\n"
   ]
  },
  {
   "cell_type": "code",
   "execution_count": 37,
   "id": "1aef59fd",
   "metadata": {},
   "outputs": [
    {
     "name": "stdout",
     "output_type": "stream",
     "text": [
      "id=123 name='John Doe' signup_ts=datetime.datetime(2017, 6, 1, 12, 22) friends=[1, 2, 3]\n",
      "123\n"
     ]
    }
   ],
   "source": [
    "from datetime import datetime\n",
    "from pydantic import BaseModel\n",
    "\n",
    "class User(BaseModel):\n",
    "    id: int\n",
    "    name: str = \"John Doe\"\n",
    "    signup_ts: Union[datetime, None] = None\n",
    "    friends: list[int] = []\n",
    "\n",
    "external_data = {\n",
    "    \"id\": \"123\",\n",
    "    \"signup_ts\": \"2017-06-01 12:22\",\n",
    "    \"friends\": [1, \"2\", b\"3\"],\n",
    "}\n",
    "user = User(**external_data)\n",
    "print(user)\n",
    "print(user.id)"
   ]
  },
  {
   "cell_type": "markdown",
   "id": "6d4a1a0a",
   "metadata": {},
   "source": [
    "### Type Hints with Metadata Annotations\n",
    "Python also has a feature that allows putting additional metadata in these type hints using `Annotated`."
   ]
  },
  {
   "cell_type": "code",
   "execution_count": 38,
   "id": "d2422d76",
   "metadata": {},
   "outputs": [],
   "source": [
    "from typing import Annotated\n",
    "\n",
    "def say_hello(name: Annotated[str, \"this is just metadata\"]) -> str:\n",
    "    return f\"Hello {name}\""
   ]
  },
  {
   "cell_type": "markdown",
   "id": "55e39f1c",
   "metadata": {},
   "source": [
    "### Type hints in FastAPI\n",
    "FastAPI takes advantage of these type hints to do several things:\n",
    "- Editor support.\n",
    "- Type checks.\n",
    "- Define requirements: from request path parameters, query parameters, headers, bodies, dependencies, etc.\n",
    "- Convert and validate data from the request.\n",
    "- Document the API using OpenAPI."
   ]
  },
  {
   "cell_type": "markdown",
   "id": "dbb8ecd3",
   "metadata": {},
   "source": [
    "# Conclusion"
   ]
  },
  {
   "cell_type": "markdown",
   "id": "8d0640a3",
   "metadata": {},
   "source": [
    "FastAPI is a powerful and easy-to-use framework for building APIs with Python. It provides high performance and automatic documentation, making it a great choice for building modern web APIs."
   ]
  },
  {
   "cell_type": "markdown",
   "id": "53d3e7fb",
   "metadata": {},
   "source": [
    "🌐 Feel free to connect with [me](https://www.linkedin.com/in/aziz-ullah-khan/) if you have questions or want to discuss this fascinating journey further! Let's continue exploring together."
   ]
  }
 ],
 "metadata": {
  "kernelspec": {
   "display_name": "Python 3 (ipykernel)",
   "language": "python",
   "name": "python3"
  },
  "language_info": {
   "codemirror_mode": {
    "name": "ipython",
    "version": 3
   },
   "file_extension": ".py",
   "mimetype": "text/x-python",
   "name": "python",
   "nbconvert_exporter": "python",
   "pygments_lexer": "ipython3",
   "version": "3.11.3"
  }
 },
 "nbformat": 4,
 "nbformat_minor": 5
}
