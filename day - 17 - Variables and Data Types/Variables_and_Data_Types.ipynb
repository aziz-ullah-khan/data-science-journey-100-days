{
 "cells": [
  {
   "cell_type": "markdown",
   "id": "88e594c5",
   "metadata": {},
   "source": [
    "# 📘 Introduction to Python\n",
    "\n",
    "✍️ Aziz Ullah Khan | 📅 April 30, 2024\n",
    "\n",
    "---\n",
    "\n",
    "## 🚀 Overview\n",
    "\n",
    "\n",
    "Python variables are the initial milestones and need to declare with following certain rules.\n",
    "\n",
    "---\n",
    "\n",
    "## 📚 Table of Contents\n",
    "\n",
    "1. Python Variables\n",
    "2. Casting\n",
    "3. Type of variable\n",
    "4. Rules for variable names\n",
    "5. Multi words variables names"
   ]
  },
  {
   "cell_type": "markdown",
   "id": "e51f9e8d-b063-4ee5-bf92-50d6d0cd69c8",
   "metadata": {},
   "source": [
    "## 1.  Python Variables\n",
    "---\n",
    "\n",
    "- Variables are just the containers for holding or storing data values\n",
    "- Unlike other programming languages Python don't have a command for declaring a variable and is created the moment a value is assisnged\n",
    "\n",
    "**Example:**"
   ]
  },
  {
   "cell_type": "code",
   "execution_count": 12,
   "id": "4cbce5c4",
   "metadata": {},
   "outputs": [
    {
     "name": "stdout",
     "output_type": "stream",
     "text": [
      "123 Aziz\n"
     ]
    }
   ],
   "source": [
    "first_variable = 123\n",
    "second_variable = \"Aziz\"\n",
    "print(first_variable, second_variable)"
   ]
  },
  {
   "cell_type": "markdown",
   "id": "c71f419b-ba78-4d9e-b4b6-a5178768e6d6",
   "metadata": {},
   "source": [
    "## 2. Casting\n",
    "---\n",
    "\n",
    "- With casting, the data type specification can be done like:"
   ]
  },
  {
   "cell_type": "code",
   "execution_count": 13,
   "id": "84fba3cb",
   "metadata": {},
   "outputs": [
    {
     "data": {
      "text/plain": [
       "('123', 123, 123.0)"
      ]
     },
     "execution_count": 13,
     "metadata": {},
     "output_type": "execute_result"
    }
   ],
   "source": [
    "first_variable = str(123)\n",
    "second_variable = int(123)\n",
    "third_variable = float(123)\n",
    "(first_variable, second_variable, third_variable)"
   ]
  },
  {
   "cell_type": "markdown",
   "id": "149984f8-fe46-4bad-bf80-b32ac7f2fc17",
   "metadata": {},
   "source": [
    "## 3. Type of variable\n",
    "---\n",
    "\n",
    "- For getting the type of varialbe type() function is used:\n"
   ]
  },
  {
   "cell_type": "code",
   "execution_count": 14,
   "id": "a290dd2c",
   "metadata": {},
   "outputs": [
    {
     "data": {
      "text/plain": [
       "(str, int, float)"
      ]
     },
     "execution_count": 14,
     "metadata": {},
     "output_type": "execute_result"
    }
   ],
   "source": [
    "type(first_variable), type(second_variable), type(third_variable)"
   ]
  },
  {
   "cell_type": "markdown",
   "id": "2efbaf0e-d868-4f64-9ba1-c95736452199",
   "metadata": {},
   "source": [
    "## 4. Rules for variable names\n",
    "---\n",
    "\n",
    "- A variable can have a short name (like x and y) or a more descriptive name (age, carname, total_volume). Rules for Python variables:\n",
    "- A variable name must start with a letter or the underscore character\n",
    "- A variable name cannot start with a number\n",
    "- A variable name can only contain alpha-numeric characters and underscores (A-z, 0-9, and _ )\n",
    "- Variable names are case-sensitive (age, Age and AGE are three different variables)\n",
    "- A variable name cannot be any of the python keywords(words reserved of python like def, class, and as .. )"
   ]
  },
  {
   "cell_type": "markdown",
   "id": "78e99112",
   "metadata": {},
   "source": [
    "#### Legal variable names"
   ]
  },
  {
   "cell_type": "code",
   "execution_count": 15,
   "id": "dc7ce1a4",
   "metadata": {},
   "outputs": [],
   "source": [
    "age = 22\n",
    "first_name = \"AUK\"\n",
    "_total = 1000\n",
    "myVariable = 'abc'\n",
    "interest_rate = 0.01\n",
    "totalAmount123 = 1000"
   ]
  },
  {
   "cell_type": "markdown",
   "id": "39122838",
   "metadata": {},
   "source": [
    "### Illegal varialbe names\n",
    "123total  # Cannot start with a digit \\\n",
    "my-variable  # Hyphens are not allowed \\\n",
    "for  # Reserved keyword \\\n",
    "@username  # Special characters are not allowed \\"
   ]
  },
  {
   "cell_type": "markdown",
   "id": "c87e9154",
   "metadata": {},
   "source": [
    "### 5. Multi words variables names"
   ]
  },
  {
   "cell_type": "markdown",
   "id": "b7238e6d",
   "metadata": {},
   "source": [
    "#### Camel Case\n",
    "myVariableName = \"AUK\""
   ]
  },
  {
   "cell_type": "markdown",
   "id": "3e78f57e",
   "metadata": {},
   "source": [
    "#### Pascal Case\n",
    "MyVariableName = \"AUK\""
   ]
  },
  {
   "cell_type": "markdown",
   "id": "52253f14",
   "metadata": {},
   "source": [
    "### Snake Case\n",
    "my_varialbe_name = \"auk\""
   ]
  },
  {
   "cell_type": "markdown",
   "id": "cbdee558",
   "metadata": {},
   "source": [
    "### 6. Summary\n",
    "---\n",
    "Python variables name should not contain keywords and have certain rules for declarations. "
   ]
  },
  {
   "cell_type": "markdown",
   "id": "a06330ba",
   "metadata": {},
   "source": [
    "🌐 Feel free to connect with [me](https://www.linkedin.com/in/aziz-ullah-khan/) if you have questions or want to discuss this fascinating journey further! Let's continue exploring together."
   ]
  },
  {
   "cell_type": "code",
   "execution_count": null,
   "id": "3fa9729a",
   "metadata": {},
   "outputs": [],
   "source": []
  }
 ],
 "metadata": {
  "kernelspec": {
   "display_name": "Python 3 (ipykernel)",
   "language": "python",
   "name": "python3"
  },
  "language_info": {
   "codemirror_mode": {
    "name": "ipython",
    "version": 3
   },
   "file_extension": ".py",
   "mimetype": "text/x-python",
   "name": "python",
   "nbconvert_exporter": "python",
   "pygments_lexer": "ipython3",
   "version": "3.11.3"
  }
 },
 "nbformat": 4,
 "nbformat_minor": 5
}
